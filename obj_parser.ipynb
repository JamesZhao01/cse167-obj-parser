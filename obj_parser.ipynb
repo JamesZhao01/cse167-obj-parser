{
 "cells": [
  {
   "attachments": {},
   "cell_type": "markdown",
   "metadata": {},
   "source": [
    "DO NOT REMOVE THIS\n",
    "\n",
    "This code was originally written by James Zhao (CSE167 WI23, A15939512)"
   ]
  },
  {
   "cell_type": "code",
   "execution_count": 2,
   "metadata": {},
   "outputs": [],
   "source": [
    "import os, tqdm, shutil\n",
    "from pathlib import Path\n",
    "import numpy as np"
   ]
  },
  {
   "cell_type": "code",
   "execution_count": 3,
   "metadata": {},
   "outputs": [],
   "source": [
    "def parse_pieces(pieces):\n",
    "  out = []\n",
    "  for piece in pieces:\n",
    "    # vertex // normal\n",
    "    if \"//\" in piece:\n",
    "      out.append((int(piece[:piece.index(\"/\")]), int(piece[piece.index(\"/\") + 2:])))\n",
    "    elif piece.count(\"/\") == 2:\n",
    "      v = piece.split(\"/\")\n",
    "      out.append((int(v[0]), int(v[1]), int(v[2])))\n",
    "    else:\n",
    "      out.append(int(piece))\n",
    "  return out\n",
    "\n",
    "def stats(verts):\n",
    "  arr = np.array(verts)\n",
    "  mins = np.min(arr, axis=0)\n",
    "  maxs = np.max(arr, axis=0)\n",
    "  return *mins, *maxs\n",
    "\n",
    "def examine_materials(path):\n",
    "  with open(path, \"r\") as f:\n",
    "    lines = [l.strip() for l in f.readlines()]\n",
    "    return set(list(filter(lambda x : x.startswith(\"usemtl\"), lines)))"
   ]
  },
  {
   "cell_type": "code",
   "execution_count": 25,
   "metadata": {},
   "outputs": [],
   "source": [
    "ALLOW = [\"ambient\", \"emission\", \"diffuse\", \"specular\", \"normal\"]\n",
    "def parse(obj_path, out_path, name,\n",
    "          eye = (10, 10, 10), center = (0, 10, 0), up = (0, 10, 0), fov = 90, \n",
    "          texture_folder = None, texture_prefix = None, materials = None, growth=1):\n",
    "  # === Materials ===\n",
    "  os.makedirs(out_path / name, exist_ok=True)\n",
    "  textures_li = []\n",
    "  materials_li = []\n",
    "  material_idxs = []\n",
    "  if texture_folder and texture_prefix and materials:\n",
    "    print(\"=== Copying Textures ===\")\n",
    "    os.makedirs(out_path / name / \"textures\", exist_ok=True)\n",
    "    for material_name in materials:\n",
    "      materials_li.append(material_name)\n",
    "      material_idx = []\n",
    "      for key in ALLOW:\n",
    "        if key in materials[material_name]:\n",
    "          img = materials[material_name][key]\n",
    "          material_idx.append(len(textures_li))\n",
    "          textures_li.append(img)\n",
    "          shutil.copy(texture_folder / img, out_path / name / \"textures\" / img)\n",
    "        else:\n",
    "          material_idx.append(-1)\n",
    "      material_idxs.append(material_idx)\n",
    "  \n",
    "  with open(obj_path, \"r\") as f:\n",
    "    obj = f.readlines()\n",
    "  obj = [l.strip() for l in obj if not l.startswith(\"#\") and not l.strip().isspace() and l.strip()]\n",
    "  out = [\"size 640 480\", \n",
    "         f\"camera {' '.join(map(str, eye))} {' '.join(map(str, center))} {' '.join(map(str, up))} {fov}\", \n",
    "         \"point 0 0 4 1 1 1\", \n",
    "         \"ambient 0 0 0\", \n",
    "         \"specular 0.2 0.2 0.2\", \n",
    "         \"diffuse 0.2 0.2 0.2\", \n",
    "         \"shininess 10\"]\n",
    "  # === PARSING ===\n",
    "  verts = []\n",
    "  norms = []\n",
    "  uvs = []\n",
    "  triangles = []\n",
    "  trinorms = []\n",
    "  tritexs = []\n",
    "  cur_mat = 0\n",
    "  print(\"===  Begin Parsing ===\")\n",
    "  for l in tqdm.tqdm(obj):\n",
    "    vals = l.split()\n",
    "    cmd = vals[0]\n",
    "    if cmd == \"usemtl\":\n",
    "      if vals[1] in materials_li:\n",
    "        cur_mat = materials_li.index(vals[1])\n",
    "      else:\n",
    "        # raise Exception(f\"Unaccounted material ({vals[1]} not in {materials_li})\")\n",
    "        pass\n",
    "    elif cmd == \"v\":\n",
    "      x, y, z = float(vals[1]), float(vals[2]), float(vals[3])\n",
    "      verts.append((x, y, z))\n",
    "    elif cmd == \"vt\":\n",
    "      u, v = float(vals[1]), float(vals[2])\n",
    "      uvs.append((u, v))\n",
    "    elif cmd == \"vn\":\n",
    "      x, y, z = float(vals[1]), float(vals[2]), float(vals[3])\n",
    "      norms.append((x, y, z))\n",
    "    elif cmd == \"f\":\n",
    "      pieces = parse_pieces(vals[1:])\n",
    "      if len(pieces) == 3 and type(pieces[0]) == int:\n",
    "        triangles.append((pieces[0] - 1, pieces[1] - 1, pieces[2] - 1))\n",
    "      elif len(pieces) == 3 and len(pieces[0]) == 2:\n",
    "        trinorms.append((pieces[0][0] - 1, pieces[1][0] - 1, pieces[2][0] - 1, \n",
    "                         pieces[0][1] - 1, pieces[1][1] - 1, pieces[2][1] - 1))\n",
    "      elif len(pieces) == 3 and len(pieces[0]) == 3:\n",
    "        tritexs.append((pieces[0][0] - 1, pieces[1][0] - 1, pieces[2][0] - 1, \n",
    "                         pieces[0][2] - 1, pieces[1][2] - 1, pieces[2][2] - 1,\n",
    "                         pieces[0][1] - 1, pieces[1][1] - 1, pieces[2][1] - 1,\n",
    "                         cur_mat))\n",
    "      elif len(pieces) == 4 and len(pieces[0]) == 3:\n",
    "        tritexs.append((pieces[0][0] - 1, pieces[1][0] - 1, pieces[2][0] - 1, \n",
    "                         pieces[0][2] - 1, pieces[1][2] - 1, pieces[2][2] - 1,\n",
    "                         pieces[0][1] - 1, pieces[1][1] - 1, pieces[2][1] - 1,\n",
    "                         cur_mat))\n",
    "        tritexs.append((pieces[0][0] - 1, pieces[2][0] - 1, pieces[3][0] - 1, \n",
    "                  pieces[0][2] - 1, pieces[2][2] - 1, pieces[3][2] - 1,\n",
    "                  pieces[0][1] - 1, pieces[2][1] - 1, pieces[3][1] - 1,\n",
    "                  cur_mat))\n",
    "    else:\n",
    "      print(f\"Unrecognized Command: {cmd} {vals[1:]}\")\n",
    "  \n",
    "  print(\"=== Finished Parsing ===\")\n",
    "  minx, miny, minz, maxx, maxy, maxz = stats(verts)\n",
    "  meanx, meany, meanz = (minx + maxx) / 2, (miny + maxy) / 2, (minz + maxz) / 2\n",
    "  rngx, rngy, rngz = (maxx - minx) / 2, (maxy - miny) / 2, (maxz - minz) / 2\n",
    "  rng = max(rngx, rngy, rngz)\n",
    "  print(f\"Vertices: {len(verts)}, Normals: {len(norms)}, Uvs: {len(uvs)}\")\n",
    "  print(f\"Triangles: {len(triangles)}, Trinorms: {len(trinorms)}, Tritexs: {len(tritexs)}\")\n",
    "  print(f\"Bounds: ({minx},{maxx}), ({miny},{maxy}]),({minz},{maxz})\")\n",
    "  print(f\"Centers: ({meanx},{meany},{meanz})\")\n",
    "  print(f\"Ranges: ({rngx},{rngy},{rngz})\")\n",
    "  verts = np.array(verts)\n",
    "  norms = np.array(norms)\n",
    "  verts = (verts - np.array([[meanx, meany, meanz]])) / rng * growth\n",
    "  print(\"Mean after centralizing\", np.mean(verts, axis=0))\n",
    "  print(\"Mins/Maxs after centralizing\", np.min(verts, axis=0), np.max(verts, axis=0))\n",
    "  for texture in textures_li:\n",
    "    out.append(f\"texture {Path(texture_prefix) / texture}\")\n",
    "  for idx, (x, y, z) in enumerate(verts):\n",
    "    out.append(f\"vertex {x:0.12f} {y:0.12f} {z:0.12f}\")\n",
    "  for nx, ny, nz in norms:\n",
    "    out.append(f\"normal {nx} {ny} {nz}\")\n",
    "  for u, v in uvs:\n",
    "    out.append(f\"texvert {u} {v}\")\n",
    "  for v0, v1, v2 in triangles:\n",
    "    out.append(f\"tri {v0} {v1} {v2}\")\n",
    "  for v0, v1, v2, n0, n1, n2 in trinorms:\n",
    "    out.append(f\"cooler_trinorm {v0} {v1} {v2} {n0} {n1} {n2}\")\n",
    "  prev_matid = None\n",
    "  for idx, (v0, v1, v2, n0, n1, n2, uv0, uv1, uv2, matid) in enumerate(tritexs):\n",
    "    if prev_matid is None or prev_matid != matid:\n",
    "      mat_triple = material_idxs[matid]\n",
    "      prev_matid = matid\n",
    "      out.append(f\"texturemaps {' '.join([str(v) for v in mat_triple])} 0.2 1.0 1.0 1.0\")\n",
    "    # If any daring adventurer ever wants to use this code, just swap out these\n",
    "    # appends with something lke out.append(f\"tri {v0} {v1} {v2}\")\n",
    "    out.append(f\"tritex {v0} {v1} {v2} {n0} {n1} {n2} {uv0} {uv1} {uv2}\")\n",
    "  print(\"=== Writing to File ===\")\n",
    "  with open(out_path / name / f\"{name}.test\", \"w\") as f:\n",
    "    f.write(f\"# Output: {out_path}\\n\")\n",
    "    for line in tqdm.tqdm(out):\n",
    "      f.write(f\"{line}\\n\")"
   ]
  },
  {
   "attachments": {},
   "cell_type": "markdown",
   "metadata": {},
   "source": [
    "# Thunderous Pulse"
   ]
  },
  {
   "cell_type": "code",
   "execution_count": 18,
   "metadata": {},
   "outputs": [
    {
     "name": "stdout",
     "output_type": "stream",
     "text": [
      "{'usemtl skin', 'usemtl BASE'}\n"
     ]
    }
   ],
   "source": [
    "load_path = Path(\"models/src/bow/source/bow1.obj\")\n",
    "out_path = Path(\"models/out\")\n",
    "texture_prefix = Path(\"../testscenes/bow/textures\")\n",
    "texture_folder = Path(\"models/src/bow/textures\")\n",
    "name = \"bow\"\n",
    "print(examine_materials(load_path))\n",
    "materials = {\n",
    "  \"BASE\": {\n",
    "    \"ambient\": \"bow1_BASE_BaseColor.png\",\n",
    "    \"emission\": \"bow1_BASE_Emissive.png\"\n",
    "  },\n",
    "  \"skin\": {\n",
    "    \"ambient\": \"bow1_skin_BaseColor.png\",\n",
    "    \"emission\": \"bow1_skin_Emissive.png\"\n",
    "  }\n",
    "}"
   ]
  },
  {
   "cell_type": "code",
   "execution_count": 38,
   "metadata": {},
   "outputs": [
    {
     "name": "stdout",
     "output_type": "stream",
     "text": [
      "=== Copying Textures ===\n",
      "===  Begin Parsing ===\n"
     ]
    },
    {
     "name": "stderr",
     "output_type": "stream",
     "text": [
      "100%|██████████| 48323/48323 [00:00<00:00, 302019.04it/s]"
     ]
    },
    {
     "name": "stdout",
     "output_type": "stream",
     "text": [
      "Unrecognized Command: mtllib ['bow1.mtl']\n",
      "Unrecognized Command: g ['Plane']\n",
      "Unrecognized Command: g ['Circle_004']\n",
      "Unrecognized Command: g ['Cylinder']\n",
      "Unrecognized Command: g ['Sphere_001']\n",
      "Unrecognized Command: g ['Line']\n",
      "Unrecognized Command: g ['Cylinder_001']\n",
      "Unrecognized Command: g ['Cylinder_002']\n",
      "Unrecognized Command: g ['Plane_001']\n",
      "Unrecognized Command: g ['Plane_002']\n",
      "Unrecognized Command: g ['Plane_004']\n",
      "Unrecognized Command: g ['Cylinder_003']\n",
      "Unrecognized Command: g ['Cylinder_006']\n",
      "Unrecognized Command: g ['BezierCurve_001']\n",
      "Unrecognized Command: g ['Cylinder_004']\n",
      "Unrecognized Command: g ['Cylinder_005']\n",
      "Unrecognized Command: g ['BezierCurve']\n",
      "Unrecognized Command: g ['BezierCurve_004']\n",
      "Unrecognized Command: g ['BezierCurve_003']\n",
      "Unrecognized Command: g ['BezierCurve_005']\n",
      "=== Finished Parsing ===\n",
      "Vertices: 8689, Normals: 8689, Uvs: 13594\n",
      "Triangles: 0, Trinorms: 0, Tritexs: 17312\n",
      "Bounds: (-124.941194,61.057006), (-230.515338,438.719654]),(-8.043065,10.150165)\n",
      "Centers: (-31.942093999999997,104.10215799999999,1.0535499999999995)\n",
      "Ranges: (92.9991,334.617496,9.096615)\n",
      "Mean after centralizing [ 0.0053407  -0.52743785 -0.00507134]\n",
      "Mins/Maxs after centralizing [-0.55585318 -2.         -0.05437023] [0.55585318 2.         0.05437023]\n"
     ]
    },
    {
     "name": "stderr",
     "output_type": "stream",
     "text": [
      "\n"
     ]
    },
    {
     "name": "stdout",
     "output_type": "stream",
     "text": [
      "=== Writing to File ===\n"
     ]
    },
    {
     "name": "stderr",
     "output_type": "stream",
     "text": [
      "100%|██████████| 48297/48297 [00:00<00:00, 1097661.33it/s]\n"
     ]
    }
   ],
   "source": [
    "parse(load_path, out_path, name,\n",
    "      eye=(0, 0, 2), center = (0, 0, 0), up= (0, 1, 0), \n",
    "      texture_prefix = texture_prefix, texture_folder = texture_folder,\n",
    "      materials = materials, growth=2)"
   ]
  },
  {
   "attachments": {},
   "cell_type": "markdown",
   "metadata": {},
   "source": [
    "# ICHIGO"
   ]
  },
  {
   "cell_type": "code",
   "execution_count": 55,
   "metadata": {},
   "outputs": [
    {
     "name": "stdout",
     "output_type": "stream",
     "text": [
      "=== Copying Textures ===\n",
      "===  Begin Parsing ===\n"
     ]
    },
    {
     "name": "stderr",
     "output_type": "stream",
     "text": [
      " 68%|██████▊   | 197092/289125 [00:00<00:00, 666860.24it/s]"
     ]
    },
    {
     "name": "stdout",
     "output_type": "stream",
     "text": [
      "Unrecognized Command: mtllib ['Strawberry_obj.mtl']\n",
      "Unrecognized Command: o ['strawberry']\n",
      "Unrecognized Command: s ['1']\n"
     ]
    },
    {
     "name": "stderr",
     "output_type": "stream",
     "text": [
      "100%|██████████| 289125/289125 [00:00<00:00, 345843.41it/s]\n"
     ]
    },
    {
     "name": "stdout",
     "output_type": "stream",
     "text": [
      "=== Finished Parsing ===\n",
      "Vertices: 65330, Normals: 65314, Uvs: 93129\n",
      "Triangles: 0, Trinorms: 0, Tritexs: 129702\n",
      "Bounds: (-2.431606,2.470415), (0.017322,7.101389]),(-2.520095,2.380674)\n",
      "Centers: (0.019404500000000047,3.5593555,-0.06971050000000001)\n",
      "Ranges: (2.4510104999999998,3.5420335,2.4503845)\n",
      "BIG range: (3.5420335)\n",
      "Mean/std verts after centralizing [-0.00031577  0.03935662  0.00151949] [0.36166856 0.55393257 0.3614472 ]\n",
      "=== Writing to File ===\n"
     ]
    },
    {
     "name": "stderr",
     "output_type": "stream",
     "text": [
      "100%|██████████| 548515/548515 [00:00<00:00, 1202882.28it/s]\n"
     ]
    }
   ],
   "source": [
    "load_path = Path(\"models/src/strawberry/Strawberry_obj.obj\")\n",
    "out_path = Path(\"models/out\")\n",
    "texture_prefix = Path(\"../testscenes/strawberry/textures\")\n",
    "texture_folder = Path(\"models/src/strawberry/Texture\")\n",
    "name = \"strawberry\"\n",
    "parse(load_path, out_path, name,\n",
    "      eye=(0, 1, 2), center = (0, 0, 0), up= (0, 1, 0), \n",
    "      texture_prefix = texture_prefix, texture_folder = texture_folder)"
   ]
  },
  {
   "attachments": {},
   "cell_type": "markdown",
   "metadata": {},
   "source": [
    "# AMOS BOW"
   ]
  },
  {
   "attachments": {},
   "cell_type": "markdown",
   "metadata": {},
   "source": [
    "# HARDEDGE"
   ]
  },
  {
   "cell_type": "code",
   "execution_count": 23,
   "metadata": {},
   "outputs": [
    {
     "name": "stdout",
     "output_type": "stream",
     "text": [
      "usemtl Hardedge\n"
     ]
    }
   ],
   "source": [
    "# https://sketchfab.com/3d-models/10-genshin-impact-inspired-sword-3d-models-a25cde4706d04e4cb5ea7ff89ceb5dd9\n",
    "name = \"hardedge\"\n",
    "load_path = Path(f\"models/src/{name}/source/Hardedge_LP.obj\")\n",
    "out_path = Path(\"models/out\")\n",
    "texture_prefix = Path(f\"../testscenes/{name}/textures\")\n",
    "texture_folder = Path(f\"models/src/{name}/textures\")\n",
    "\n",
    "for v in examine_materials(load_path):\n",
    "  print(v)\n",
    "materials = {\n",
    "  \"Hardedge\": {\n",
    "    \"ambient\": \"T_Hardedge_Cleaner_BaseColor.tga.png\",\n",
    "    \"normal\": \"T_Hardedge_Cleaner_Normal.tga.png\"\n",
    "  },\n",
    "}"
   ]
  },
  {
   "cell_type": "code",
   "execution_count": 28,
   "metadata": {},
   "outputs": [
    {
     "name": "stdout",
     "output_type": "stream",
     "text": [
      "=== Copying Textures ===\n",
      "===  Begin Parsing ===\n"
     ]
    },
    {
     "name": "stderr",
     "output_type": "stream",
     "text": [
      "100%|██████████| 45302/45302 [00:00<00:00, 482677.55it/s]"
     ]
    },
    {
     "name": "stdout",
     "output_type": "stream",
     "text": [
      "Unrecognized Command: mtllib ['hardedge_lp.mtl']\n",
      "Unrecognized Command: g ['blade_low']\n",
      "Unrecognized Command: g ['bladesupport_low']\n",
      "Unrecognized Command: g ['handguard_low']\n",
      "Unrecognized Command: g ['materiaball_low_02']\n",
      "Unrecognized Command: g ['materiaball_low_03']\n",
      "Unrecognized Command: g ['materiaball_low_01']\n",
      "Unrecognized Command: g ['handlewrap_low']\n",
      "Unrecognized Command: g ['handleextension_low']\n",
      "Unrecognized Command: g ['pommel_low']\n",
      "Unrecognized Command: g ['materiatube_low_01']\n",
      "Unrecognized Command: g ['materiatube_low_03']\n",
      "Unrecognized Command: g ['materiatube_low_02']\n",
      "Unrecognized Command: g ['nails_low']\n",
      "=== Finished Parsing ===\n",
      "Vertices: 9023, Normals: 9023, Uvs: 10230\n",
      "Triangles: 0, Trinorms: 0, Tritexs: 16999\n",
      "Bounds: (-118.265324,66.246414), (-2.539807,2.572501]),(-23.651881,17.636719)\n",
      "Centers: (-26.009455000000003,0.01634699999999989,-3.007581)\n",
      "Ranges: (92.255869,2.5561540000000003,20.6443)\n",
      "Mean after centralizing [-0.06884359  0.0006732   0.02725188]\n",
      "Mins/Maxs after centralizing [-2.         -0.05541445 -0.44754443] [2.         0.05541445 0.44754443]\n",
      "=== Writing to File ===\n"
     ]
    },
    {
     "name": "stderr",
     "output_type": "stream",
     "text": [
      "\n",
      "100%|██████████| 45285/45285 [00:00<00:00, 1525443.38it/s]\n"
     ]
    }
   ],
   "source": [
    "parse(load_path, out_path, name,\n",
    "      eye=(0, 2, 0), center = (0, 0, 0), up= (0, 0, 1), \n",
    "      texture_prefix = texture_prefix, texture_folder = texture_folder,\n",
    "      materials = materials, growth=2)"
   ]
  }
 ],
 "metadata": {
  "kernelspec": {
   "display_name": "mlenv",
   "language": "python",
   "name": "python3"
  },
  "language_info": {
   "codemirror_mode": {
    "name": "ipython",
    "version": 3
   },
   "file_extension": ".py",
   "mimetype": "text/x-python",
   "name": "python",
   "nbconvert_exporter": "python",
   "pygments_lexer": "ipython3",
   "version": "3.9.16"
  },
  "orig_nbformat": 4
 },
 "nbformat": 4,
 "nbformat_minor": 2
}
